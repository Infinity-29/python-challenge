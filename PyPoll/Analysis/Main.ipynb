{
 "cells": [
  {
   "cell_type": "code",
   "execution_count": 411,
   "id": "eae803e9",
   "metadata": {},
   "outputs": [],
   "source": [
    "import os\n",
    "import csv"
   ]
  },
  {
   "cell_type": "code",
   "execution_count": 412,
   "id": "a58a4e83",
   "metadata": {
    "scrolled": true
   },
   "outputs": [
    {
     "name": "stdout",
     "output_type": "stream",
     "text": [
      "Election Results\n",
      "\n",
      "----------------------------\n",
      "Total Votes: 3521001\n",
      "\n",
      "----------------------------\n",
      "\n",
      "Khan: 63.000% (2218231)\n",
      "Correy: 20.000% (704200)\n",
      "Li: 14.000% (492940)\n",
      "O'Tooley: 3.000% (105630)\n",
      "----------------------------\n",
      "Winner: Khan\n",
      "----------------------------\n"
     ]
    }
   ],
   "source": [
    "# Path to collect data from the Resources folder\n",
    "election_csv = os.path.join('..', 'Resource', 'election_data.csv')\n",
    "uniquecandidate=[]\n",
    "Votes={}\n",
    "totalvote=0\n",
    "winningnumber=0\n",
    "# Candidate={}\n",
    "with open(election_csv) as csvfile:\n",
    "    csvreader=csv.reader(csvfile,delimiter=',')\n",
    "#Move pointer to next row , dont need header\n",
    "    csv_header = next(csvfile)\n",
    "#read through each row of data after header\n",
    "    for row in csvreader:\n",
    "        candidate_name = row[2]\n",
    "        totalvote =totalvote  + 1\n",
    "        if candidate_name not in uniquecandidate:\n",
    "            uniquecandidate.append(candidate_name)\n",
    "            Votes[candidate_name]=0\n",
    "                \n",
    "        Votes[candidate_name]=Votes[candidate_name] + 1\n",
    "#uniquecandidate\n",
    "    print(\"Election Results\" + \"\\n\")\n",
    "    print(\"----------------------------\")\n",
    "    print(\"Total Votes: \" +str(totalvote)+\"\\n\")\n",
    "    print(\"----------------------------\" +\"\\n\")\n",
    "    \n",
    "    for Candidate in Votes:\n",
    "        uniquevotes = Votes.get(Candidate)\n",
    "        vote_percentage =  (uniquevotes) /  (totalvote) * 100\n",
    "        if (uniquevotes > winningnumber):\n",
    "                winningnumber = uniquevotes\n",
    "                winningcandidate = Candidate          \n",
    "        voter_output = f\"{Candidate}: {vote_percentage:.3f}% ({uniquevotes})\\n\"\n",
    "        print(voter_output,end=\"\")\n",
    "    print(\"----------------------------\")\n",
    "    print(\"Winner: \" + winningcandidate)\n",
    "    print(\"----------------------------\")"
   ]
  },
  {
   "cell_type": "code",
   "execution_count": 422,
   "id": "4b43491a",
   "metadata": {},
   "outputs": [],
   "source": [
    "# Specify the file to write to\n",
    "output_path = os.path.join(\"..\", \"Analysis\", \"Result.txt\")\n",
    "# Open the file using \"write\" mode. Specify the variable to hold the contents\n",
    "with open(output_path, 'w') as txtfile:\n",
    "        txtfile.write(\"Election Results\" + \"\\n\")\n",
    "        txtfile.write(\"----------------------------\" + \"\\n\")\n",
    "        txtfile.write(\"Total Votes: \" +str(totalvote)+\"\\n\")\n",
    "        txtfile.write(\"----------------------------\" +\"\\n\")\n",
    "        for Candidate in Votes:\n",
    "            uniquevotes = Votes.get(Candidate)\n",
    "            vote_percentage =  (uniquevotes) /  (totalvote) * 100\n",
    "            if (uniquevotes > winningnumber):\n",
    "                winningnumber = uniquevotes\n",
    "                winningcandidate = Candidate          \n",
    "            voter_output = f\"{Candidate}: {vote_percentage:.3f}% ({uniquevotes})\\n\"\n",
    "            txtfile.write(f\"{Candidate}: {vote_percentage:.3f}% ({uniquevotes})\\n\")\n",
    "        txtfile.write(\"----------------------------\" +\"\\n\")\n",
    "        txtfile.write(\"Winner: \" + winningcandidate + \"\\n\")\n",
    "        txtfile.write(\"----------------------------\")"
   ]
  },
  {
   "cell_type": "code",
   "execution_count": null,
   "id": "42e31419",
   "metadata": {},
   "outputs": [],
   "source": []
  }
 ],
 "metadata": {
  "kernelspec": {
   "display_name": "Python 3",
   "language": "python",
   "name": "python3"
  },
  "language_info": {
   "codemirror_mode": {
    "name": "ipython",
    "version": 3
   },
   "file_extension": ".py",
   "mimetype": "text/x-python",
   "name": "python",
   "nbconvert_exporter": "python",
   "pygments_lexer": "ipython3",
   "version": "3.8.8"
  }
 },
 "nbformat": 4,
 "nbformat_minor": 5
}
