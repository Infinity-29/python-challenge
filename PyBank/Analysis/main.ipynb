{
 "cells": [
  {
   "cell_type": "code",
   "execution_count": 8,
   "id": "bfcbd3dc",
   "metadata": {},
   "outputs": [],
   "source": [
    "import os \n",
    "import csv"
   ]
  },
  {
   "cell_type": "code",
   "execution_count": 9,
   "id": "2e580480",
   "metadata": {},
   "outputs": [],
   "source": [
    "csvpath = os.path.join('..', 'Resource','budget_data.csv')"
   ]
  },
  {
   "cell_type": "code",
   "execution_count": 10,
   "id": "69ca6e93",
   "metadata": {},
   "outputs": [
    {
     "name": "stdout",
     "output_type": "stream",
     "text": [
      "Financial Analysis\n",
      "----------------------------\n",
      "Total Months: 86\n",
      "Total: $38382578\n"
     ]
    }
   ],
   "source": [
    "with open(csvpath) as csvfile:\n",
    "    csvreader=csv.reader(csvfile,delimiter=',')\n",
    "    months = []\n",
    "    Finaltotal = []\n",
    "    averagechange = []\n",
    "    greatestincrease = []\n",
    "    greatestdecrease = []\n",
    "#Move pointer to next row , dont need header\n",
    "    csv_header = next(csvfile)\n",
    "    rowsvar = 0\n",
    "    sums=0\n",
    "#read through each row of data after header\n",
    "    for row in csvreader:\n",
    "        Finaltotal.append(row[1])\n",
    "        months.append(row[0])\n",
    "        rowsvar += 1\n",
    "        sums = sums +int(row[1])\n",
    "#Print Headline for Data\n",
    "    print(\"Financial Analysis\")\n",
    "    print(\"----------------------------\")\n",
    "\n",
    "#Sum Total Number of Months in Budget Data\n",
    "    totalmonths = len(months)\n",
    "#print total months\n",
    "    print(\"Total Months: \" + str(totalmonths))\n",
    "    print(\"Total: \" +\"$\"+str(sums))"
   ]
  },
  {
   "cell_type": "code",
   "execution_count": 11,
   "id": "18d4cf0b",
   "metadata": {},
   "outputs": [
    {
     "name": "stdout",
     "output_type": "stream",
     "text": [
      "Average change: $-2315.12\n",
      "Greatest Increase in Profits: Feb-2012 ($1926159)\n",
      "Greatest Decrease in Profits: Sep-2013 ($-2196167)\n"
     ]
    }
   ],
   "source": [
    "#calculate average revenue change\n",
    "change = []\n",
    "for y in range(1, len(Finaltotal)):\n",
    "    #append change list\n",
    "    change.append(int(Finaltotal[y]) - int(Finaltotal[y-1]))\n",
    "    average = sum(change) / len(change)\n",
    "# print(change)\n",
    "# print(average)\n",
    "#print the average change   \n",
    "print(\"Average change: \" + \"$\" + str(round(average, 2)))\n",
    "#Greatest increase max\n",
    "greatestincrease = max(change)\n",
    "#print greatest increase in profits\n",
    "print(\"Greatest Increase in Profits: \" + str(months[change.index(max(change))+1]) + \" \" + \"($\" + str(greatestincrease) + \")\")\n",
    "#Greatest decrease min\n",
    "greatestdecrease = min(change)\n",
    "#print greatest decrease in profits\n",
    "print(\"Greatest Decrease in Profits: \" + str(months[change.index(min(change))+1]) + \" \" + \"($\" + str(greatestdecrease) + \")\")"
   ]
  },
  {
   "cell_type": "code",
   "execution_count": 12,
   "id": "f0e66e88",
   "metadata": {},
   "outputs": [],
   "source": [
    "# Specify the file to write to\n",
    "output_path = os.path.join(\"..\", \"Analysis\", \"Result.txt\")\n",
    "# Open the file using \"write\" mode. Specify the variable to hold the contents\n",
    "with open(output_path, 'w') as txtfile:\n",
    "    # Initialize csv.writer\n",
    "    #txtfile =txt.writer(txtfile)\n",
    "    txtfile.write(\"Financial Analysis\"+\"\\n\")\n",
    "    txtfile.write(\"----------------------------\"+\"\\n\")\n",
    "    txtfile.write(\"Total Months: \" + str(totalmonths)+\"\\n\")\n",
    "    txtfile.write(\"Total: \" +\"$\"+str(sums)+\"\\n\")\n",
    "    txtfile.write(\"Average change: \" + \"$\" + str(round(average, 2))+\"\\n\")\n",
    "    txtfile.write(\"Greatest Increase in Profits: \" + str(months[change.index(max(change))+1]) + \" \" + \"($\" + str(greatestincrease) + \")\\n\")\n",
    "    txtfile.write(\"Greatest Decrease in Profits: \" + str(months[change.index(min(change))+1]) + \" \" + \"($\" + str(greatestdecrease) + \")\\n\")"
   ]
  }
 ],
 "metadata": {
  "kernelspec": {
   "display_name": "Python 3",
   "language": "python",
   "name": "python3"
  },
  "language_info": {
   "codemirror_mode": {
    "name": "ipython",
    "version": 3
   },
   "file_extension": ".py",
   "mimetype": "text/x-python",
   "name": "python",
   "nbconvert_exporter": "python",
   "pygments_lexer": "ipython3",
   "version": "3.8.8"
  }
 },
 "nbformat": 4,
 "nbformat_minor": 5
}
